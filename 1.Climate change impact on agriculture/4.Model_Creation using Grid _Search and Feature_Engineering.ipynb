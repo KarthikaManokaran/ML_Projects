{
 "cells": [
  {
   "cell_type": "code",
   "execution_count": 1,
   "id": "8901f393-b2e3-4de4-953e-112cbe8de3b1",
   "metadata": {},
   "outputs": [],
   "source": [
    "import pandas as pd\n",
    "import numpy as np\n",
    "\n",
    "from sklearn.model_selection import train_test_split\n",
    "from sklearn.preprocessing import StandardScaler\n",
    "from sklearn.model_selection import GridSearchCV\n",
    "from sklearn.metrics import r2_score\n",
    "from sklearn.feature_selection import SelectKBest,f_regression\n",
    "\n",
    "from sklearn.feature_selection import chi2\n",
    "from sklearn.feature_selection import RFE\n",
    "\n",
    "from sklearn.linear_model import LinearRegression\n",
    "from sklearn.svm import SVR\n",
    "from sklearn.tree import DecisionTreeRegressor\n",
    "from sklearn.ensemble import RandomForestRegressor\n",
    "\n",
    "import pickle\n",
    "import matplotlib.pyplot as plt\n",
    "import warnings\n",
    "warnings.filterwarnings('ignore')\n",
    "\n",
    "\n"
   ]
  },
  {
   "cell_type": "code",
   "execution_count": 2,
   "id": "9199d61d-34fb-4216-a541-e7ebb08aed8d",
   "metadata": {},
   "outputs": [],
   "source": [
    "def selectkbest(indep_X, dep_Y, n, score_func=f_regression):\n",
    "    test = SelectKBest(score_func=score_func, k=n)\n",
    "    fit1 = test.fit(indep_X, dep_Y)\n",
    "    selectk_features = fit1.transform(indep_X)\n",
    "    return selectk_features\n"
   ]
  },
  {
   "cell_type": "code",
   "execution_count": 3,
   "id": "d7a13169-ee2b-4dfe-afc9-4a57497df9a0",
   "metadata": {},
   "outputs": [],
   "source": [
    "def split_scalar(indep_X,dep_Y):\n",
    "        X_train, X_test, y_train, y_test = train_test_split(indep_X, dep_Y, test_size = 0.25, random_state = 0)\n",
    "        sc = StandardScaler()\n",
    "        X_train = sc.fit_transform(X_train)\n",
    "        X_test = sc.transform(X_test)    \n",
    "        return X_train, X_test, y_train, y_test\n",
    "    "
   ]
  },
  {
   "cell_type": "code",
   "execution_count": 4,
   "id": "351938e8-3c3b-4f5e-9eba-fec867e8a3ab",
   "metadata": {},
   "outputs": [],
   "source": [
    "def r2_prediction(regressor,X_test,y_test):\n",
    "     y_pred = regressor.predict(X_test)\n",
    "     r2=r2_score(y_test,y_pred)\n",
    "     return r2"
   ]
  },
  {
   "cell_type": "code",
   "execution_count": 5,
   "id": "7f60e3cd-ce62-4c9f-b598-adf01d3ba939",
   "metadata": {},
   "outputs": [],
   "source": [
    "def Linear(X_train,y_train,X_test,y_test):       \n",
    "        regressor = LinearRegression()\n",
    "        regressor.fit(X_train, y_train)\n",
    "        r2=r2_prediction(regressor,X_test,y_test)\n",
    "        return  r2   "
   ]
  },
  {
   "cell_type": "code",
   "execution_count": 6,
   "id": "4d165649-a09b-4075-bfc2-ebc6f62e120e",
   "metadata": {},
   "outputs": [],
   "source": [
    "def svm_linear(X_train,y_train,X_test,y_test):\n",
    "        \n",
    "        \n",
    "        param_grid = {'kernel':['rbf','poly','sigmoid','linear'],\n",
    "                    'C':[10,100,1000,2000,3000],'gamma':['auto','scale']}\n",
    "        \n",
    "        grid = GridSearchCV(SVR(), param_grid, refit = True, verbose = 3,n_jobs=-1)\n",
    "                \n",
    "        grid.fit(X_train, y_train)\n",
    "        r2=r2_prediction(grid,X_test,y_test)\n",
    "        return  r2  "
   ]
  },
  {
   "cell_type": "code",
   "execution_count": 7,
   "id": "a66e961a-3d28-4022-8d14-9b69edd1988b",
   "metadata": {},
   "outputs": [],
   "source": [
    "def svm_NL(X_train,y_train,X_test,y_test):\n",
    "        regressor = SVR(kernel = 'rbf')\n",
    "        regressor.fit(X_train, y_train)\n",
    "        r2=r2_prediction(regressor,X_test,y_test)\n",
    "        return  r2  \n",
    "     "
   ]
  },
  {
   "cell_type": "code",
   "execution_count": 8,
   "id": "b14b3074-23a9-4917-bfe1-aa79297b322a",
   "metadata": {},
   "outputs": [],
   "source": [
    "def Decision(X_train,y_train,X_test,y_test):\n",
    "        \n",
    "        \n",
    "        param_grid = {'criterion':['mse','mae','friedman_mse'],'max_features': ['auto','sqrt','log2'],'splitter':['best','random']}\n",
    "        regressor = GridSearchCV(DecisionTreeRegressor(), param_grid, refit = True, verbose= 3,n_jobs=-1)\n",
    "        regressor.fit(X_train, y_train)\n",
    "        r2=r2_prediction(regressor,X_test,y_test)\n",
    "        return  r2  \n",
    "     "
   ]
  },
  {
   "cell_type": "code",
   "execution_count": 9,
   "id": "3be72b1d-d780-482b-804a-0eb3bf3a129c",
   "metadata": {},
   "outputs": [],
   "source": [
    "def random(X_train,y_train,X_test,y_test):  \n",
    "\n",
    "        param_grid = {'n_estimators': [50, 100, 200], 'max_depth': [None, 10, 20, 30], 'min_samples_split': [2, 5, 10], 'min_samples_leaf': [1, 2, 4]}\n",
    "        regressor = GridSearchCV(RandomForestRegressor(), param_grid=param_grid, cv=3, n_jobs=-1, scoring='r2')\n",
    "        regressor.fit(X_train, y_train)\n",
    "        #param_grid = {'criterion':['friedman_mse','squared_error','absolute_error','poisson'],'max_features': ['auto','sqrt','log2'],'n_estimators':[10,100]}\n",
    "        #regressor = GridSearchCV(RandomForestRegressor(),param_grid, refit = True, verbose= 3,n_jobs=-1)\n",
    "        #regressor.fit(X_train, y_train)\n",
    "        r2=r2_prediction(regressor,X_test,y_test)\n",
    "        return  r2 "
   ]
  },
  {
   "cell_type": "code",
   "execution_count": 10,
   "id": "ba501e60-e5eb-459d-af5c-8e4cf5acbb1d",
   "metadata": {},
   "outputs": [],
   "source": [
    "def selectk_regression(acclin,accsvml,accsvmnl,accdes,accrf): \n",
    "    \n",
    "    dataframe=pd.DataFrame(index=['ChiSquare'],columns=['Linear','SVMl','SVMnl','Decision','Random'])\n",
    "    for number,idex in enumerate(dataframe.index):\n",
    "        \n",
    "        dataframe['Linear'][idex]=acclin[number]       \n",
    "        dataframe['SVMl'][idex]=accsvml[number]\n",
    "        dataframe['SVMnl'][idex]=accsvmnl[number]\n",
    "        dataframe['Decision'][idex]=accdes[number]\n",
    "        dataframe['Random'][idex]=accrf[number]\n",
    "    return dataframe"
   ]
  },
  {
   "cell_type": "markdown",
   "id": "fa8c7827-7523-4d0a-862d-8063fa940d65",
   "metadata": {},
   "source": [
    "### Load dataset"
   ]
  },
  {
   "cell_type": "code",
   "execution_count": 11,
   "id": "05efc8d8-d3ec-4fa2-a873-c9ae29318a1d",
   "metadata": {},
   "outputs": [],
   "source": [
    "dataset=pd.read_csv(\"data/climate_change_impact_on_agriculture_2024.csv\",index_col=None)\n",
    "df=dataset\n",
    "\n",
    "# Convert categorical features to dummy variables\n",
    "df = pd.get_dummies(df, drop_first=True)\n",
    "\n",
    "# Feature and Target selection\n",
    "indep_X=df.iloc[:,[1,14]].values\n",
    "dep_Y=df['Economic_Impact_Million_USD']\n",
    "\n",
    "# Make Input X non Negative\n",
    "indep_X += abs(indep_X.min())  \n",
    "\n",
    "# select top features using selectKBest\n",
    "kbest = selectkbest(indep_X, dep_Y,5,score_func=f_regression)\n",
    "    \n",
    "\n",
    "# initialize empty lists to store results\n",
    "acclin=[]\n",
    "accsvml=[]\n",
    "accsvmnl=[]\n",
    "accdes=[]\n",
    "accrf=[]\n",
    "\n",
    "# Split data into train and test\n",
    "X_train,X_test,y_train,y_test = split_scalar(kbest,dep_Y)\n"
   ]
  },
  {
   "cell_type": "code",
   "execution_count": 12,
   "id": "d89f23a9-5165-4c2b-a997-82abf2b5af10",
   "metadata": {},
   "outputs": [
    {
     "name": "stdout",
     "output_type": "stream",
     "text": [
      "Fitting 5 folds for each of 40 candidates, totalling 200 fits\n",
      "Fitting 5 folds for each of 18 candidates, totalling 90 fits\n",
      "Fitting 5 folds for each of 40 candidates, totalling 200 fits\n",
      "Fitting 5 folds for each of 18 candidates, totalling 90 fits\n"
     ]
    }
   ],
   "source": [
    "# Train and predict with different models  \n",
    "\n",
    "for _ in range(kbest.shape[1]):   \n",
    "    \n",
    "    r2_lin=Linear(X_train,y_train,X_test,y_test)\n",
    "    acclin.append(r2_lin)\n",
    "    \n",
    "    r2_sl=svm_linear(X_train,y_train,X_test,y_test)    \n",
    "    accsvml.append(r2_sl)\n",
    "    \n",
    "    r2_NL=svm_NL(X_train,y_train,X_test,y_test)\n",
    "    accsvmnl.append(r2_NL)\n",
    "    \n",
    "    r2_d=Decision(X_train,y_train,X_test,y_test)\n",
    "    accdes.append(r2_d)\n",
    "    \n",
    "    r2_r=random(X_train,y_train,X_test,y_test)\n",
    "    accrf.append(r2_r)\n",
    "    \n",
    "    \n",
    "result=selectk_regression(acclin,accsvml,accsvmnl,accdes,accrf)\n"
   ]
  },
  {
   "cell_type": "code",
   "execution_count": 18,
   "id": "2f1574d4-1340-42ef-ae69-94f9a6ee61a1",
   "metadata": {},
   "outputs": [
    {
     "data": {
      "text/html": [
       "<div>\n",
       "<style scoped>\n",
       "    .dataframe tbody tr th:only-of-type {\n",
       "        vertical-align: middle;\n",
       "    }\n",
       "\n",
       "    .dataframe tbody tr th {\n",
       "        vertical-align: top;\n",
       "    }\n",
       "\n",
       "    .dataframe thead th {\n",
       "        text-align: right;\n",
       "    }\n",
       "</style>\n",
       "<table border=\"1\" class=\"dataframe\">\n",
       "  <thead>\n",
       "    <tr style=\"text-align: right;\">\n",
       "      <th></th>\n",
       "      <th>Linear</th>\n",
       "      <th>SVMl</th>\n",
       "      <th>SVMnl</th>\n",
       "      <th>Decision</th>\n",
       "      <th>Random</th>\n",
       "    </tr>\n",
       "  </thead>\n",
       "  <tbody>\n",
       "    <tr>\n",
       "      <th>ChiSquare</th>\n",
       "      <td>0.044867</td>\n",
       "      <td>0.094371</td>\n",
       "      <td>0.03147</td>\n",
       "      <td>-0.357086</td>\n",
       "      <td>0.152098</td>\n",
       "    </tr>\n",
       "  </tbody>\n",
       "</table>\n",
       "</div>"
      ],
      "text/plain": [
       "             Linear      SVMl    SVMnl  Decision    Random\n",
       "ChiSquare  0.044867  0.094371  0.03147 -0.357086  0.152098"
      ]
     },
     "execution_count": 18,
     "metadata": {},
     "output_type": "execute_result"
    }
   ],
   "source": [
    "result # K= 8 "
   ]
  },
  {
   "cell_type": "code",
   "execution_count": 13,
   "id": "17ebe7ce-4497-4b17-8173-5bd344a5bd46",
   "metadata": {},
   "outputs": [
    {
     "data": {
      "text/html": [
       "<div>\n",
       "<style scoped>\n",
       "    .dataframe tbody tr th:only-of-type {\n",
       "        vertical-align: middle;\n",
       "    }\n",
       "\n",
       "    .dataframe tbody tr th {\n",
       "        vertical-align: top;\n",
       "    }\n",
       "\n",
       "    .dataframe thead th {\n",
       "        text-align: right;\n",
       "    }\n",
       "</style>\n",
       "<table border=\"1\" class=\"dataframe\">\n",
       "  <thead>\n",
       "    <tr style=\"text-align: right;\">\n",
       "      <th></th>\n",
       "      <th>Linear</th>\n",
       "      <th>SVMl</th>\n",
       "      <th>SVMnl</th>\n",
       "      <th>Decision</th>\n",
       "      <th>Random</th>\n",
       "    </tr>\n",
       "  </thead>\n",
       "  <tbody>\n",
       "    <tr>\n",
       "      <th>ChiSquare</th>\n",
       "      <td>0.044867</td>\n",
       "      <td>0.094371</td>\n",
       "      <td>0.03147</td>\n",
       "      <td>-0.357938</td>\n",
       "      <td>0.151849</td>\n",
       "    </tr>\n",
       "  </tbody>\n",
       "</table>\n",
       "</div>"
      ],
      "text/plain": [
       "             Linear      SVMl    SVMnl  Decision    Random\n",
       "ChiSquare  0.044867  0.094371  0.03147 -0.357938  0.151849"
      ]
     },
     "execution_count": 13,
     "metadata": {},
     "output_type": "execute_result"
    }
   ],
   "source": [
    "result #K=5"
   ]
  },
  {
   "cell_type": "markdown",
   "id": "babdca8d-f9cf-4f0f-a214-a882dfe10a31",
   "metadata": {},
   "source": [
    "## Conclusion:"
   ]
  },
  {
   "cell_type": "markdown",
   "id": "1eba19fa-de14-4c85-a773-281eee3dc4a4",
   "metadata": {},
   "source": [
    "#### The regression model did not provide good accuracy, so we can consider using a boosting algorithm."
   ]
  },
  {
   "cell_type": "code",
   "execution_count": null,
   "id": "7535747b-574b-412b-8b62-04a7318d66fe",
   "metadata": {},
   "outputs": [],
   "source": []
  },
  {
   "cell_type": "code",
   "execution_count": null,
   "id": "39b928e7-9eb9-4c6a-abc7-92eb68312276",
   "metadata": {},
   "outputs": [],
   "source": []
  }
 ],
 "metadata": {
  "kernelspec": {
   "display_name": "Python 3 (ipykernel)",
   "language": "python",
   "name": "python3"
  },
  "language_info": {
   "codemirror_mode": {
    "name": "ipython",
    "version": 3
   },
   "file_extension": ".py",
   "mimetype": "text/x-python",
   "name": "python",
   "nbconvert_exporter": "python",
   "pygments_lexer": "ipython3",
   "version": "3.11.5"
  }
 },
 "nbformat": 4,
 "nbformat_minor": 5
}
