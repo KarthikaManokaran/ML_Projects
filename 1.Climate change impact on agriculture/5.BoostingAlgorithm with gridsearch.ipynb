{
 "cells": [
  {
   "cell_type": "code",
   "execution_count": 45,
   "id": "ea051d5a-39e7-4278-8a55-bb182cbee1c7",
   "metadata": {},
   "outputs": [],
   "source": [
    "import pandas as pd\n",
    "from sklearn.model_selection import train_test_split, GridSearchCV\n",
    "from sklearn.preprocessing import StandardScaler\n",
    "import matplotlib.pyplot as plt\n",
    "\n",
    "from sklearn.ensemble import GradientBoostingRegressor\n",
    "from xgboost import XGBRegressor\n",
    "from catboost import CatBoostRegressor\n",
    "from sklearn.metrics import r2_score\n",
    "from sklearn.feature_selection import SelectKBest,f_regression\n",
    "from sklearn.feature_selection import chi2\n",
    "\n",
    "import warnings\n",
    "warnings.filterwarnings('ignore')\n"
   ]
  },
  {
   "cell_type": "code",
   "execution_count": 5,
   "id": "ec23abe1-f016-426c-9e15-4502f01db659",
   "metadata": {},
   "outputs": [],
   "source": [
    "data=pd.read_csv(\"data/climate_change_impact_on_agriculture_2024.csv\")"
   ]
  },
  {
   "cell_type": "code",
   "execution_count": 6,
   "id": "9f895cf8-654b-414d-b13a-ca126ed89335",
   "metadata": {},
   "outputs": [
    {
     "data": {
      "text/html": [
       "<div>\n",
       "<style scoped>\n",
       "    .dataframe tbody tr th:only-of-type {\n",
       "        vertical-align: middle;\n",
       "    }\n",
       "\n",
       "    .dataframe tbody tr th {\n",
       "        vertical-align: top;\n",
       "    }\n",
       "\n",
       "    .dataframe thead th {\n",
       "        text-align: right;\n",
       "    }\n",
       "</style>\n",
       "<table border=\"1\" class=\"dataframe\">\n",
       "  <thead>\n",
       "    <tr style=\"text-align: right;\">\n",
       "      <th></th>\n",
       "      <th>Year</th>\n",
       "      <th>Country</th>\n",
       "      <th>Region</th>\n",
       "      <th>Crop_Type</th>\n",
       "      <th>Average_Temperature_C</th>\n",
       "      <th>Total_Precipitation_mm</th>\n",
       "      <th>CO2_Emissions_MT</th>\n",
       "      <th>Crop_Yield_MT_per_HA</th>\n",
       "      <th>Extreme_Weather_Events</th>\n",
       "      <th>Irrigation_Access_%</th>\n",
       "      <th>Pesticide_Use_KG_per_HA</th>\n",
       "      <th>Fertilizer_Use_KG_per_HA</th>\n",
       "      <th>Soil_Health_Index</th>\n",
       "      <th>Adaptation_Strategies</th>\n",
       "      <th>Economic_Impact_Million_USD</th>\n",
       "    </tr>\n",
       "  </thead>\n",
       "  <tbody>\n",
       "    <tr>\n",
       "      <th>0</th>\n",
       "      <td>2001</td>\n",
       "      <td>India</td>\n",
       "      <td>West Bengal</td>\n",
       "      <td>Corn</td>\n",
       "      <td>1.55</td>\n",
       "      <td>447.06</td>\n",
       "      <td>15.22</td>\n",
       "      <td>1.737</td>\n",
       "      <td>8</td>\n",
       "      <td>14.54</td>\n",
       "      <td>10.08</td>\n",
       "      <td>14.78</td>\n",
       "      <td>83.25</td>\n",
       "      <td>Water Management</td>\n",
       "      <td>808.13</td>\n",
       "    </tr>\n",
       "    <tr>\n",
       "      <th>1</th>\n",
       "      <td>2024</td>\n",
       "      <td>China</td>\n",
       "      <td>North</td>\n",
       "      <td>Corn</td>\n",
       "      <td>3.23</td>\n",
       "      <td>2913.57</td>\n",
       "      <td>29.82</td>\n",
       "      <td>1.737</td>\n",
       "      <td>8</td>\n",
       "      <td>11.05</td>\n",
       "      <td>33.06</td>\n",
       "      <td>23.25</td>\n",
       "      <td>54.02</td>\n",
       "      <td>Crop Rotation</td>\n",
       "      <td>616.22</td>\n",
       "    </tr>\n",
       "    <tr>\n",
       "      <th>2</th>\n",
       "      <td>2001</td>\n",
       "      <td>France</td>\n",
       "      <td>Ile-de-France</td>\n",
       "      <td>Wheat</td>\n",
       "      <td>21.11</td>\n",
       "      <td>1301.74</td>\n",
       "      <td>25.75</td>\n",
       "      <td>1.719</td>\n",
       "      <td>5</td>\n",
       "      <td>84.42</td>\n",
       "      <td>27.41</td>\n",
       "      <td>65.53</td>\n",
       "      <td>67.78</td>\n",
       "      <td>Water Management</td>\n",
       "      <td>796.96</td>\n",
       "    </tr>\n",
       "    <tr>\n",
       "      <th>3</th>\n",
       "      <td>2001</td>\n",
       "      <td>Canada</td>\n",
       "      <td>Prairies</td>\n",
       "      <td>Coffee</td>\n",
       "      <td>27.85</td>\n",
       "      <td>1154.36</td>\n",
       "      <td>13.91</td>\n",
       "      <td>3.890</td>\n",
       "      <td>5</td>\n",
       "      <td>94.06</td>\n",
       "      <td>14.38</td>\n",
       "      <td>87.58</td>\n",
       "      <td>91.39</td>\n",
       "      <td>No Adaptation</td>\n",
       "      <td>790.32</td>\n",
       "    </tr>\n",
       "    <tr>\n",
       "      <th>4</th>\n",
       "      <td>1998</td>\n",
       "      <td>India</td>\n",
       "      <td>Tamil Nadu</td>\n",
       "      <td>Sugarcane</td>\n",
       "      <td>2.19</td>\n",
       "      <td>1627.48</td>\n",
       "      <td>11.81</td>\n",
       "      <td>1.080</td>\n",
       "      <td>9</td>\n",
       "      <td>95.75</td>\n",
       "      <td>44.35</td>\n",
       "      <td>88.08</td>\n",
       "      <td>49.61</td>\n",
       "      <td>Crop Rotation</td>\n",
       "      <td>401.72</td>\n",
       "    </tr>\n",
       "  </tbody>\n",
       "</table>\n",
       "</div>"
      ],
      "text/plain": [
       "   Year Country         Region  Crop_Type  Average_Temperature_C  \\\n",
       "0  2001   India    West Bengal       Corn                   1.55   \n",
       "1  2024   China          North       Corn                   3.23   \n",
       "2  2001  France  Ile-de-France      Wheat                  21.11   \n",
       "3  2001  Canada       Prairies     Coffee                  27.85   \n",
       "4  1998   India     Tamil Nadu  Sugarcane                   2.19   \n",
       "\n",
       "   Total_Precipitation_mm  CO2_Emissions_MT  Crop_Yield_MT_per_HA  \\\n",
       "0                  447.06             15.22                 1.737   \n",
       "1                 2913.57             29.82                 1.737   \n",
       "2                 1301.74             25.75                 1.719   \n",
       "3                 1154.36             13.91                 3.890   \n",
       "4                 1627.48             11.81                 1.080   \n",
       "\n",
       "   Extreme_Weather_Events  Irrigation_Access_%  Pesticide_Use_KG_per_HA  \\\n",
       "0                       8                14.54                    10.08   \n",
       "1                       8                11.05                    33.06   \n",
       "2                       5                84.42                    27.41   \n",
       "3                       5                94.06                    14.38   \n",
       "4                       9                95.75                    44.35   \n",
       "\n",
       "   Fertilizer_Use_KG_per_HA  Soil_Health_Index Adaptation_Strategies  \\\n",
       "0                     14.78              83.25      Water Management   \n",
       "1                     23.25              54.02         Crop Rotation   \n",
       "2                     65.53              67.78      Water Management   \n",
       "3                     87.58              91.39         No Adaptation   \n",
       "4                     88.08              49.61         Crop Rotation   \n",
       "\n",
       "   Economic_Impact_Million_USD  \n",
       "0                       808.13  \n",
       "1                       616.22  \n",
       "2                       796.96  \n",
       "3                       790.32  \n",
       "4                       401.72  "
      ]
     },
     "execution_count": 6,
     "metadata": {},
     "output_type": "execute_result"
    }
   ],
   "source": [
    "data.head()"
   ]
  },
  {
   "cell_type": "code",
   "execution_count": 7,
   "id": "7af0e189-67ca-42ec-bf8c-a040edafa369",
   "metadata": {},
   "outputs": [],
   "source": [
    "df=data"
   ]
  },
  {
   "cell_type": "code",
   "execution_count": 27,
   "id": "96a87c58-e7f9-4334-a903-dc00a303b868",
   "metadata": {},
   "outputs": [],
   "source": [
    "def selectkbest(indep_X,dep_Y,n):\n",
    "        test = SelectKBest(score_func=f_regression, k=n)\n",
    "        fit1= test.fit(indep_X,dep_Y)\n",
    "        selectk_features = fit1.transform(indep_X)\n",
    "        return selectk_features"
   ]
  },
  {
   "cell_type": "code",
   "execution_count": 9,
   "id": "4ee63e28-e086-487b-81b0-8ce3681b0c66",
   "metadata": {},
   "outputs": [],
   "source": [
    "def split_scalar(indep_x,dep_y):\n",
    "    X_train,X_test,y_train,y_test=train_test_split(indep_x,dep_y,test_size=0.25,random_state=0)\n",
    "    sc=StandardScaler()\n",
    "    X_train = sc.fit_transform(X_train)\n",
    "    X_test=sc.transform(X_test)\n",
    "    return X_train,X_test,y_train,y_test"
   ]
  },
  {
   "cell_type": "code",
   "execution_count": 10,
   "id": "6aab5e23-e864-4f3e-a75d-24671bb8b278",
   "metadata": {},
   "outputs": [],
   "source": [
    "def r2_prediction(regressor,X_test,y_test):\n",
    "     y_pred = regressor.predict(X_test)\n",
    "     r2=r2_score(y_test,y_pred)\n",
    "     return r2"
   ]
  },
  {
   "cell_type": "code",
   "execution_count": 46,
   "id": "1268d08c-93d0-4fca-9392-50a0593198e5",
   "metadata": {},
   "outputs": [],
   "source": [
    "def gradientboost(X_train,y_train,X_test,y_test):\n",
    "    gb = GradientBoostingRegressor(random_state=42)\n",
    "    param_grid = {\n",
    "            'n_estimators': [100, 200, 300],\n",
    "            'learning_rate': [0.01, 0.1, 0.2],\n",
    "            'max_depth': [3, 5, 7],\n",
    "            'min_samples_split': [2, 5, 10],\n",
    "            'min_samples_leaf': [1, 2, 4]\n",
    "        }\n",
    "    grid = GridSearchCV(estimator=gb, \n",
    "                               param_grid=param_grid , \n",
    "                               cv=3, scoring='neg_mean_squared_error', verbose=2, n_jobs=-1)\n",
    "    grid.fit(X_train, y_train)\n",
    "    r2=r2_prediction(grid,X_test,y_test)\n",
    "    return  r2  "
   ]
  },
  {
   "cell_type": "code",
   "execution_count": 47,
   "id": "4aaaff4c-fa50-4ddb-a2de-27e05c8d452b",
   "metadata": {},
   "outputs": [],
   "source": [
    "def xgboost(X_train,y_train,X_test,y_test):\n",
    "    xgb = XGBRegressor(random_state=42)\n",
    "    param_grid = {\n",
    "            'n_estimators': [100, 200, 300],\n",
    "            'learning_rate': [0.01, 0.1, 0.2],\n",
    "            'max_depth': [3, 5, 7],\n",
    "            'subsample': [0.8, 1.0],\n",
    "            'colsample_bytree': [0.8, 1.0]\n",
    "        }\n",
    "    grid = GridSearchCV(estimator=xgb, \n",
    "                               param_grid= param_grid, \n",
    "                               cv=3, scoring='neg_mean_squared_error', verbose=2, n_jobs=-1)\n",
    "    # Fit the model to the training data\n",
    "    grid.fit(X_train, y_train)\n",
    "    r2=r2_prediction(grid,X_test,y_test)\n",
    "    return  r2  \n",
    "    "
   ]
  },
  {
   "cell_type": "code",
   "execution_count": 56,
   "id": "420069d9-e56a-4d66-8dec-6f6a77edd237",
   "metadata": {},
   "outputs": [],
   "source": [
    "def catboost(X_train,y_train,X_test,y_test):\n",
    "    catboost = CatBoostRegressor(random_state=42, silent=True)\n",
    "    param_grid = {\n",
    "            'iterations': [100, 200, 300],\n",
    "            'learning_rate': [0.01, 0.1, 0.2],\n",
    "            'depth': [3, 5, 7],\n",
    "            'l2_leaf_reg': [1, 3, 5]\n",
    "        }\n",
    "    grid = GridSearchCV(estimator=catboost, \n",
    "                               param_grid=param_grid , \n",
    "                               cv=3, scoring='neg_mean_squared_error', verbose=2, n_jobs=-1)\n",
    "    grid.fit(X_train, y_train)\n",
    "    r2=r2_prediction(grid,X_test,y_test)\n",
    "    return  r2  \n",
    "    "
   ]
  },
  {
   "cell_type": "code",
   "execution_count": 57,
   "id": "a9cbf746-43d6-49ae-9ebd-e9b3826b192f",
   "metadata": {},
   "outputs": [],
   "source": [
    "def selectk_regression(accgradient,accxgboost,acccatboost): \n",
    "    \n",
    "    dataframe=pd.DataFrame(index=['ChiSquare'],columns=['GradientBoosting','XGBoost','CatBoost'])\n",
    "    for number,idex in enumerate(dataframe.index):      \n",
    "        dataframe['GradientBoosting'][idex]=accgradient[number]       \n",
    "        dataframe['XGBoost'][idex]=accxgboost[number]\n",
    "        dataframe['CatBoost'][idex]=acccatboost[number]\n",
    "        \n",
    "    return dataframe"
   ]
  },
  {
   "cell_type": "code",
   "execution_count": 58,
   "id": "ee377b34-3588-4143-a0ff-2c9278173c38",
   "metadata": {},
   "outputs": [],
   "source": [
    "# Convert categorical features to dummy variables\n",
    "df = pd.get_dummies(df, drop_first=True)"
   ]
  },
  {
   "cell_type": "code",
   "execution_count": 59,
   "id": "cd2c5ab6-fd2c-4799-81fc-ed489fd5fbd8",
   "metadata": {},
   "outputs": [],
   "source": [
    "indep_X=df.iloc[:,[1,14]].values\n",
    "dep_Y=df['Economic_Impact_Million_USD']"
   ]
  },
  {
   "cell_type": "code",
   "execution_count": 60,
   "id": "2c0cb7a7-5fd6-4ad7-9e87-1b70c45fdd03",
   "metadata": {},
   "outputs": [],
   "source": [
    "# Make Input X non Negative\n",
    "indep_X += abs(indep_X.min())  "
   ]
  },
  {
   "cell_type": "code",
   "execution_count": 61,
   "id": "4ad6b966-8e67-40c9-abf6-ce694d38de79",
   "metadata": {},
   "outputs": [],
   "source": [
    "kbest=selectkbest(indep_X,dep_Y,5)\n",
    "\n",
    "accgradient=[]\n",
    "accxgboost=[]\n",
    "acccatboost=[]\n"
   ]
  },
  {
   "cell_type": "code",
   "execution_count": 62,
   "id": "9e8f832d-df1d-4a52-8022-8413d5c9acd0",
   "metadata": {},
   "outputs": [],
   "source": [
    "X_train,X_test,y_train,y_test = train_test_split(indep_X,dep_Y,test_size=0.30,random_state=0)"
   ]
  },
  {
   "cell_type": "code",
   "execution_count": 63,
   "id": "8970ebe0-2fa1-4eee-8eef-e665c30cbbc9",
   "metadata": {},
   "outputs": [
    {
     "name": "stdout",
     "output_type": "stream",
     "text": [
      "Fitting 3 folds for each of 243 candidates, totalling 729 fits\n",
      "Fitting 3 folds for each of 108 candidates, totalling 324 fits\n",
      "Fitting 3 folds for each of 81 candidates, totalling 243 fits\n",
      "Fitting 3 folds for each of 243 candidates, totalling 729 fits\n",
      "Fitting 3 folds for each of 108 candidates, totalling 324 fits\n",
      "Fitting 3 folds for each of 81 candidates, totalling 243 fits\n"
     ]
    }
   ],
   "source": [
    "for _ in range(kbest.shape[1]):   \n",
    "    \n",
    "    r2_gradient=gradientboost(X_train,y_train,X_test,y_test)\n",
    "    accgradient.append(r2_gradient)\n",
    "    \n",
    "    r2_xgboost= xgboost(X_train,y_train,X_test,y_test)  \n",
    "    accxgboost.append(r2_xgboost)\n",
    "    \n",
    "    r2_catboost=catboost(X_train,y_train,X_test,y_test)\n",
    "    acccatboost.append(r2_catboost)\n",
    "    \n",
    "   \n",
    "result=selectk_regression(accgradient,accxgboost,acccatboost)\n"
   ]
  },
  {
   "cell_type": "code",
   "execution_count": 64,
   "id": "29506cc9-3942-4576-90a3-3042a4750b0b",
   "metadata": {},
   "outputs": [
    {
     "data": {
      "text/html": [
       "<div>\n",
       "<style scoped>\n",
       "    .dataframe tbody tr th:only-of-type {\n",
       "        vertical-align: middle;\n",
       "    }\n",
       "\n",
       "    .dataframe tbody tr th {\n",
       "        vertical-align: top;\n",
       "    }\n",
       "\n",
       "    .dataframe thead th {\n",
       "        text-align: right;\n",
       "    }\n",
       "</style>\n",
       "<table border=\"1\" class=\"dataframe\">\n",
       "  <thead>\n",
       "    <tr style=\"text-align: right;\">\n",
       "      <th></th>\n",
       "      <th>GradientBoosting</th>\n",
       "      <th>XGBoost</th>\n",
       "      <th>CatBoost</th>\n",
       "    </tr>\n",
       "  </thead>\n",
       "  <tbody>\n",
       "    <tr>\n",
       "      <th>ChiSquare</th>\n",
       "      <td>0.161827</td>\n",
       "      <td>0.166566</td>\n",
       "      <td>0.163621</td>\n",
       "    </tr>\n",
       "  </tbody>\n",
       "</table>\n",
       "</div>"
      ],
      "text/plain": [
       "          GradientBoosting   XGBoost  CatBoost\n",
       "ChiSquare         0.161827  0.166566  0.163621"
      ]
     },
     "execution_count": 64,
     "metadata": {},
     "output_type": "execute_result"
    }
   ],
   "source": [
    "result"
   ]
  },
  {
   "cell_type": "code",
   "execution_count": null,
   "id": "f8ce3ec2-1825-4641-bcc2-c5de97fdc350",
   "metadata": {},
   "outputs": [],
   "source": []
  }
 ],
 "metadata": {
  "kernelspec": {
   "display_name": "Python 3 (ipykernel)",
   "language": "python",
   "name": "python3"
  },
  "language_info": {
   "codemirror_mode": {
    "name": "ipython",
    "version": 3
   },
   "file_extension": ".py",
   "mimetype": "text/x-python",
   "name": "python",
   "nbconvert_exporter": "python",
   "pygments_lexer": "ipython3",
   "version": "3.11.5"
  }
 },
 "nbformat": 4,
 "nbformat_minor": 5
}
