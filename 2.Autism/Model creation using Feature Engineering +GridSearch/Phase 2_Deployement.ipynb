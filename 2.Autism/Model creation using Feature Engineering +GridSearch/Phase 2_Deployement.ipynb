{
 "cells": [
  {
   "cell_type": "code",
   "execution_count": 1,
   "id": "2f837ff9-cf64-45c3-93a9-52415a00d1ad",
   "metadata": {},
   "outputs": [],
   "source": [
    "import pickle\n",
    "import pandas as pd\n",
    "from sklearn.feature_selection import SelectKBest, f_classif\n",
    "from sklearn.model_selection import train_test_split\n",
    "from sklearn.preprocessing import StandardScaler\n",
    "from sklearn.model_selection import GridSearchCV\n",
    "from sklearn.svm import SVC"
   ]
  },
  {
   "cell_type": "code",
   "execution_count": 4,
   "id": "1221bfa1-bb85-491b-8a05-87f16d7b52d3",
   "metadata": {},
   "outputs": [],
   "source": [
    "dataset1=pd.read_csv(\"autism.csv\",index_col=None)\n",
    "df2=dataset1\n",
    "indep_X=df2.drop(['Class/ASD'], axis=1)\n",
    "dep_Y=df2['Class/ASD']"
   ]
  },
  {
   "cell_type": "code",
   "execution_count": 5,
   "id": "86b0d437-46cc-4f73-9e9b-df80714ad94c",
   "metadata": {},
   "outputs": [],
   "source": [
    "X_train,X_test,y_train,y_test=train_test_split(indep_X,dep_Y,test_size=0.25,random_state=0)\n"
   ]
  },
  {
   "cell_type": "code",
   "execution_count": 6,
   "id": "beb11b86-0ae3-497c-8528-9697b3a09fef",
   "metadata": {},
   "outputs": [
    {
     "name": "stdout",
     "output_type": "stream",
     "text": [
      "X_train shape: (600, 14)\n",
      "y_train length: 600\n"
     ]
    }
   ],
   "source": [
    "print(f\"X_train shape: {X_train.shape}\")\n",
    "print(f\"y_train length: {len(y_train)}\")"
   ]
  },
  {
   "cell_type": "code",
   "execution_count": 7,
   "id": "07fb4bc2-dbb4-4bb0-bd22-fb326a6c7b52",
   "metadata": {},
   "outputs": [],
   "source": [
    "# Select features from X_train\n",
    "selector = SelectKBest(score_func=f_classif, k=3)\n",
    "X_train_selected = selector.fit_transform(X_train, y_train)\n",
    "\n",
    "# Transform X_test using the same selector\n",
    "X_test_selected = selector.transform(X_test)\n"
   ]
  },
  {
   "cell_type": "code",
   "execution_count": 8,
   "id": "2e7300d4-b32d-4c9f-b071-e6041361b13a",
   "metadata": {},
   "outputs": [],
   "source": [
    "# Scale the selected training features\n",
    "scaler = StandardScaler()\n",
    "X_train_scaled = scaler.fit_transform(X_train_selected)\n",
    "\n",
    "# Scale the selected test features\n",
    "X_test_scaled = scaler.transform(X_test_selected)"
   ]
  },
  {
   "cell_type": "code",
   "execution_count": 9,
   "id": "f6f71833-b8e6-4d4d-95bf-0cc4b1eec0d9",
   "metadata": {},
   "outputs": [],
   "source": [
    "new_input = [[0, 0, 0]]  # Must match the reduced feature size (3 features)"
   ]
  },
  {
   "cell_type": "code",
   "execution_count": 10,
   "id": "bd93bdc6-6072-4cf0-aa77-6f145a9454ac",
   "metadata": {},
   "outputs": [],
   "source": [
    "preinput = scaler.transform(new_input)"
   ]
  },
  {
   "cell_type": "code",
   "execution_count": 11,
   "id": "fe0c13d5-89fd-47dc-8294-07f0d833aa64",
   "metadata": {},
   "outputs": [],
   "source": [
    "loaded_model=pickle.load(open(\"finalized_model_SVML_GridClassification.sav\",'rb'))"
   ]
  },
  {
   "cell_type": "code",
   "execution_count": 12,
   "id": "fd318efe-e5d9-4aa6-8990-a8a44b41161b",
   "metadata": {},
   "outputs": [],
   "source": [
    "result=loaded_model.predict(preinput)\n"
   ]
  },
  {
   "cell_type": "code",
   "execution_count": 13,
   "id": "5c1c8d83-b9a6-4056-9911-c3531ed2fa27",
   "metadata": {},
   "outputs": [
    {
     "data": {
      "text/plain": [
       "array([0], dtype=int64)"
      ]
     },
     "execution_count": 13,
     "metadata": {},
     "output_type": "execute_result"
    }
   ],
   "source": [
    "result"
   ]
  },
  {
   "cell_type": "code",
   "execution_count": null,
   "id": "b137c7aa-34bf-4826-9386-552d646a26e0",
   "metadata": {},
   "outputs": [],
   "source": []
  },
  {
   "cell_type": "code",
   "execution_count": null,
   "id": "213c2103-df57-494e-b99d-f830a5550e69",
   "metadata": {},
   "outputs": [],
   "source": []
  }
 ],
 "metadata": {
  "kernelspec": {
   "display_name": "Python 3 (ipykernel)",
   "language": "python",
   "name": "python3"
  },
  "language_info": {
   "codemirror_mode": {
    "name": "ipython",
    "version": 3
   },
   "file_extension": ".py",
   "mimetype": "text/x-python",
   "name": "python",
   "nbconvert_exporter": "python",
   "pygments_lexer": "ipython3",
   "version": "3.11.5"
  }
 },
 "nbformat": 4,
 "nbformat_minor": 5
}
